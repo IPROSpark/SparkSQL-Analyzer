{
 "cells": [
  {
   "cell_type": "code",
   "execution_count": 22,
   "metadata": {},
   "outputs": [
    {
     "name": "stdout",
     "output_type": "stream",
     "text": [
      "/home/quakumei/Workspace/Code/sparkySQL/SparkSQL-Analyzer\n"
     ]
    }
   ],
   "source": [
    "%cd .."
   ]
  },
  {
   "cell_type": "code",
   "execution_count": 37,
   "metadata": {},
   "outputs": [
    {
     "name": "stdout",
     "output_type": "stream",
     "text": [
      "usage: swissql [-h] -q Q -f F [-s S] [-F F]\n",
      "               [-o {optimize,normalize,eliminate_subqueries,expand_multi_table_selects,isolate_table_selects,optimize_joins,pushdown_predicates,pushdown_projections,qualify_tables,qualify_columns,quote_identities,unnest_subqueries}]\n",
      "               [-r {filter1.lark,all}] [--dialect DIALECT]\n",
      "               [--output-mode {str,json}]\n",
      "               {syntax,format,optimize,style,anti_pattern,extract,rule,all,style}\n",
      "\n",
      "Spark SQL analytic engine\n",
      "\n",
      "positional arguments:\n",
      "  {syntax,format,optimize,style,anti_pattern,extract,rule,all,style}\n",
      "                        mode of operation\n",
      "\n",
      "optional arguments:\n",
      "  -h, --help            show this help message and exit\n",
      "  -q Q                  specify SQL query\n",
      "  -f F                  specify file to read SQL query from\n",
      "  -s S                  specify schema: Schema is a mapping in one of the\n",
      "                        following forms: 1. {table: {col: type}} 2. {db:\n",
      "                        {table: {col: type}}} 3. {catalog: {db: {table: {col:\n",
      "                        type}}}} Example types: INT, STRING\n",
      "  -F F                  specify schema file to read schema from\n",
      "  -o {optimize,normalize,eliminate_subqueries,expand_multi_table_selects,isolate_table_selects,optimize_joins,pushdown_predicates,pushdown_projections,qualify_tables,qualify_columns,quote_identities,unnest_subqueries}\n",
      "                        specify optimizers\n",
      "  -r {filter1.lark,all}\n",
      "                        specify rule file\n",
      "  --dialect DIALECT     specify sqlfluff dialect\n",
      "  --output-mode {str,json}\n",
      "                        specify output format\n"
     ]
    }
   ],
   "source": [
    "!python -m swissql -h"
   ]
  },
  {
   "cell_type": "code",
   "execution_count": 126,
   "metadata": {},
   "outputs": [
    {
     "name": "stdout",
     "output_type": "stream",
     "text": [
      "\u001b[33m[Generating syntax tree using sqlglot]\u001b[0m\n",
      "(SELECT expressions: \n",
      "  (STAR ), from: \n",
      "  (FROM expressions: \n",
      "    (TABLE this: \n",
      "      (IDENTIFIER this: x, quoted: False))), joins: \n",
      "  (JOIN this: \n",
      "    (TABLE this: \n",
      "      (IDENTIFIER this: y, quoted: False)), on: \n",
      "    (EQ this: \n",
      "      (COLUMN this: \n",
      "        (IDENTIFIER this: id, quoted: False), table: \n",
      "        (IDENTIFIER this: x, quoted: False)), expression: \n",
      "      (COLUMN this: \n",
      "        (IDENTIFIER this: id, quoted: False), table: \n",
      "        (IDENTIFIER this: y, quoted: False)))), where: \n",
      "  (WHERE this: \n",
      "    (GT this: \n",
      "      (COLUMN this: \n",
      "        (IDENTIFIER this: id, quoted: False), table: \n",
      "        (IDENTIFIER this: x, quoted: False)), expression: \n",
      "      (LITERAL this: 2, is_string: False))))\n",
      "\n",
      "\u001b[33m[Formatting sql query using sqlglot]\u001b[0m\n",
      "SELECT\n",
      "  *\n",
      "FROM x\n",
      "JOIN y\n",
      "  ON x.id = y.id\n",
      "WHERE\n",
      "  x.id > 2\n",
      "\n",
      "\u001b[33m[Optimizing sql query using sqlglot]\u001b[0m\n",
      "Optimization: optimize\n",
      "SELECT\n",
      "  \"x\".\"id\" AS \"id\",\n",
      "  \"x\".\"name\" AS \"name\",\n",
      "  \"y\".\"id\" AS \"id\",\n",
      "  \"y\".\"name\" AS \"name\"\n",
      "FROM (\n",
      "  SELECT\n",
      "    \"x\".\"id\" AS \"id\",\n",
      "    \"x\".\"name\" AS \"name\"\n",
      "  FROM \"x\" AS \"x\"\n",
      "  WHERE\n",
      "    \"x\".\"id\" > 2\n",
      ") AS \"x\"\n",
      "JOIN (\n",
      "  SELECT\n",
      "    \"y\".\"id\" AS \"id\",\n",
      "    \"y\".\"name\" AS \"name\"\n",
      "  FROM \"y\" AS \"y\"\n",
      ") AS \"y\"\n",
      "  ON \"x\".\"id\" = \"y\".\"id\"\n",
      "\n",
      "\u001b[33m[Style sql query use sqlfluff]\u001b[0m\n",
      "/home/quakumei/Workspace/Code/sparkySQL/SparkSQL-Analyzer/swissql/analyzers/style/intermediate.sql\n",
      "== [/home/quakumei/Workspace/Code/sparkySQL/SparkSQL-Analyzer/swissql/analyzers/style/intermediate.sql] FAIL\n",
      "L:   1 | P:   1 | L044 | Query produces an unknown number of result columns.\n",
      "L:   1 | P:   8 | L027 | Unqualified reference '*' found in select with more than\n",
      "                       | one referenced table/view.\n",
      "L:   1 | P:  10 | L010 | Keywords must be consistently upper case.\n",
      "L:   1 | P:  17 | L010 | Keywords must be consistently upper case.\n",
      "L:   1 | P:  17 | L051 | Join clauses should be fully qualified.\n",
      "L:   1 | P:  24 | L010 | Keywords must be consistently upper case.\n",
      "L:   1 | P:  39 | L010 | Keywords must be consistently upper case.\n",
      "L:   1 | P:  53 | L009 | Files must end with a single trailing newline.\n",
      "All Finished!\n",
      "\n",
      "\n",
      "\u001b[33m[Detecting anti-patterns using sqlcheck]\u001b[0m\n",
      "sqlcheck version 1.2.1\n",
      "Debug build (NDEBUG not #defined)\n",
      "+-------------------------------------------------+\n",
      "|                   SQLCHECK                      |\n",
      "+-------------------------------------------------+\n",
      "> RISK LEVEL    :: ALL ANTI-PATTERNS\n",
      "> SQL FILE NAME :: temp.sql\n",
      "> COLOR MODE    :: ENABLED\n",
      "> VERBOSE MODE  :: ENABLED\n",
      "> DELIMITER     :: ;\n",
      "-------------------------------------------------\n",
      "==================== Results ===================\n",
      "\n",
      "-------------------------------------------------\n",
      "SQL Statement at line 1: \u001b[1m\u001b[31mselect * from x join y on x.id = y.id where x.id > 2;\u001b[0m\u001b[39m\n",
      "[temp.sql]: (\u001b[1m\u001b[32mHIGH RISK\u001b[0m\u001b[39m) \u001b[1m\u001b[34mSELECT *\u001b[0m\u001b[39m\n",
      "● Inefficiency in moving data to the consumer:\n",
      "When you SELECT *, you're often retrieving more columns from the database than\n",
      "your application really needs to function. This causes more data to move from\n",
      "the database server to the client, slowing access and increasing load on your\n",
      "machines, as well as taking more time to travel across the network. This is\n",
      "especially true when someone adds new columns to underlying tables that didn't\n",
      "exist and weren't needed when the original consumers coded their data access.\n",
      "\n",
      "\n",
      "● Indexing issues:\n",
      "Consider a scenario where you want to tune a query to a high level of\n",
      "performance. If you were to use *, and it returned more columns than you\n",
      "actually needed, the server would often have to perform more expensive methods\n",
      "to retrieve your data than it otherwise might. For example, you wouldn't be able\n",
      "to create an index which simply covered the columns in your SELECT list, and\n",
      "even if you did (including all columns [shudder]), the next guy who came around\n",
      "and added a column to the underlying table would cause the optimizer to ignore\n",
      "your optimized covering index, and you'd likely find that the performance of\n",
      "your query would drop substantially for no readily apparent reason.\n",
      "\n",
      "● Binding\n",
      "Problems:\n",
      "When you SELECT *, it's possible to retrieve two columns of the same name from\n",
      "two different tables. This can often crash your data consumer. Imagine a query\n",
      "that joins two tables, both of which contain a column called \"ID\". How would a\n",
      "consumer know which was which? SELECT * can also confuse views (at least in some\n",
      "versions SQL Server) when underlying table structures change -- the view is not\n",
      "rebuilt, and the data which comes back can be nonsense. And the worst part of it\n",
      "is that you can take care to name your columns whatever you want, but the next\n",
      "guy who comes along might have no way of knowing that he has to worry about\n",
      "adding a column which will collide with your already-developed names.\n",
      "[Matching Expression: \u001b[1m\u001b[34mselect *\u001b[0m\u001b[39m at line 1]\n",
      "\n",
      "\n",
      "==================== Summary ===================\n",
      "All Anti-Patterns and Hints  :: 1\n",
      ">  High Risk   :: 1\n",
      ">  Medium Risk :: 0\n",
      ">  Low Risk    :: 0\n",
      ">  Hints       :: 0\n",
      "\n",
      "\n",
      "\u001b[33m[Finding rules using lark]\u001b[0m\n",
      "\u001b[31mswissql: error: no rule specified\u001b[0m\n",
      "\n"
     ]
    }
   ],
   "source": [
    "# Общий случай - использование всех модулей\n",
    "!python -m swissql all -q \"SELECT * from x join y on x.id = y.id where x.id > 2\" -s '{\"x\":{\"id\":\"INT\", \"name\":\"STRING\"},\"y\":{\"id\":\"INT\",\"name\":\"STRING\"}}' -o optimize\n"
   ]
  },
  {
   "cell_type": "code",
   "execution_count": 80,
   "metadata": {},
   "outputs": [
    {
     "name": "stdout",
     "output_type": "stream",
     "text": [
      "\u001b[33m[Generating syntax tree using sqlglot]\u001b[0m\n",
      "(SELECT expressions: \n",
      "  (COLUMN this: \n",
      "    (IDENTIFIER this: id, quoted: False), table: \n",
      "    (IDENTIFIER this: x, quoted: False)), \n",
      "  (COLUMN this: \n",
      "    (IDENTIFIER this: name, quoted: False), table: \n",
      "    (IDENTIFIER this: x, quoted: False)), \n",
      "  (COLUMN this: \n",
      "    (IDENTIFIER this: name, quoted: False), table: \n",
      "    (IDENTIFIER this: y, quoted: False)), from: \n",
      "  (FROM expressions: \n",
      "    (TABLE this: \n",
      "      (IDENTIFIER this: x, quoted: False))), joins: \n",
      "  (JOIN this: \n",
      "    (TABLE this: \n",
      "      (IDENTIFIER this: y, quoted: False)), on: \n",
      "    (EQ this: \n",
      "      (COLUMN this: \n",
      "        (IDENTIFIER this: id, quoted: False), table: \n",
      "        (IDENTIFIER this: x, quoted: False)), expression: \n",
      "      (COLUMN this: \n",
      "        (IDENTIFIER this: id, quoted: False), table: \n",
      "        (IDENTIFIER this: y, quoted: False)))), where: \n",
      "  (WHERE this: \n",
      "    (GT this: \n",
      "      (COLUMN this: \n",
      "        (IDENTIFIER this: id, quoted: False), table: \n",
      "        (IDENTIFIER this: x, quoted: False)), expression: \n",
      "      (LITERAL this: 2, is_string: False))))\n",
      "\n",
      "\u001b[33m[Formatting sql query using sqlglot]\u001b[0m\n",
      "SELECT\n",
      "  x.id,\n",
      "  x.name,\n",
      "  y.name\n",
      "FROM x\n",
      "JOIN y\n",
      "  ON x.id = y.id\n",
      "WHERE\n",
      "  x.id > 2\n",
      "\n",
      "\u001b[33m[Optimizing sql query using sqlglot]\u001b[0m\n",
      "Optimization: optimize\n",
      "SELECT\n",
      "  \"x\".\"id\" AS \"id\",\n",
      "  \"x\".\"name\" AS \"name\",\n",
      "  \"y\".\"name\" AS \"name\"\n",
      "FROM (\n",
      "  SELECT\n",
      "    \"x\".\"id\" AS \"id\",\n",
      "    \"x\".\"name\" AS \"name\"\n",
      "  FROM \"x\" AS \"x\"\n",
      "  WHERE\n",
      "    \"x\".\"id\" > 2\n",
      ") AS \"x\"\n",
      "JOIN (\n",
      "  SELECT\n",
      "    \"y\".\"id\" AS \"id\",\n",
      "    \"y\".\"name\" AS \"name\"\n",
      "  FROM \"y\" AS \"y\"\n",
      ") AS \"y\"\n",
      "  ON \"x\".\"id\" = \"y\".\"id\"\n",
      "\n",
      "\u001b[33m[Style sql query use sqlfluff]\u001b[0m\n",
      "== [examples/example0.sql] FAIL                                                 \n",
      "L:   1 | P:   1 | L036 | Select targets should be on a new line unless there is\n",
      "                       | only one select target.\n",
      "L:   1 | P:  29 | L010 | Keywords must be consistently upper case.\n",
      "L:   1 | P:  36 | L010 | Keywords must be consistently upper case.\n",
      "L:   1 | P:  36 | L051 | Join clauses should be fully qualified.\n",
      "L:   1 | P:  43 | L010 | Keywords must be consistently upper case.\n",
      "L:   1 | P:  58 | L010 | Keywords must be consistently upper case.\n",
      "L:   1 | P:  72 | L009 | Files must end with a single trailing newline.\n",
      "All Finished!\n",
      "\n",
      "\n",
      "\u001b[33m[Detecting anti-patterns using sqlcheck]\u001b[0m\n",
      "sqlcheck version 1.2.1\n",
      "Debug build (NDEBUG not #defined)\n",
      "+-------------------------------------------------+\n",
      "|                   SQLCHECK                      |\n",
      "+-------------------------------------------------+\n",
      "> RISK LEVEL    :: ALL ANTI-PATTERNS\n",
      "> SQL FILE NAME :: examples/example0.sql\n",
      "> COLOR MODE    :: ENABLED\n",
      "> VERBOSE MODE  :: ENABLED\n",
      "> DELIMITER     :: ;\n",
      "-------------------------------------------------\n",
      "==================== Results ===================\n",
      "No issues found.\n",
      "\n",
      "\n",
      "\u001b[33m[Finding rules using lark]\u001b[0m\n",
      "\u001b[31mswissql: error: no rule specified\u001b[0m\n",
      "\n"
     ]
    }
   ],
   "source": [
    "# Использование файла запроса и json файла схемы\n",
    "!python -m swissql all -f examples/example0.sql -F examples/example0.schema.json -o optimize\n"
   ]
  },
  {
   "cell_type": "code",
   "execution_count": 27,
   "metadata": {},
   "outputs": [
    {
     "name": "stdout",
     "output_type": "stream",
     "text": [
      "\u001b[33m[Generating syntax tree using sqlglot]\u001b[0m\n",
      "(SELECT expressions: \n",
      "  (STAR ), from: \n",
      "  (FROM expressions: \n",
      "    (TABLE this: \n",
      "      (IDENTIFIER this: x, quoted: False))), joins: \n",
      "  (JOIN this: \n",
      "    (TABLE this: \n",
      "      (IDENTIFIER this: y, quoted: False)), on: \n",
      "    (EQ this: \n",
      "      (COLUMN this: \n",
      "        (IDENTIFIER this: id, quoted: False), table: \n",
      "        (IDENTIFIER this: x, quoted: False)), expression: \n",
      "      (COLUMN this: \n",
      "        (IDENTIFIER this: id, quoted: False), table: \n",
      "        (IDENTIFIER this: y, quoted: False)))), where: \n",
      "  (WHERE this: \n",
      "    (GT this: \n",
      "      (COLUMN this: \n",
      "        (IDENTIFIER this: id, quoted: False), table: \n",
      "        (IDENTIFIER this: x, quoted: False)), expression: \n",
      "      (LITERAL this: 2, is_string: False))))\n"
     ]
    }
   ],
   "source": [
    "# Использование отдельного модуля - SyntaxTree\n",
    "!python -m swissql syntax -q \"SELECT * from x join y on x.id = y.id where x.id > 2\" -s '{\"x\":{\"id\":\"INT\", \"name\":\"STRING\"},\"y\":{\"id\":\"INT\",\"name\":\"STRING\"}}' -o optimize"
   ]
  },
  {
   "cell_type": "code",
   "execution_count": 28,
   "metadata": {},
   "outputs": [
    {
     "name": "stdout",
     "output_type": "stream",
     "text": [
      "\u001b[33m[Formatting sql query using sqlglot]\u001b[0m\n",
      "SELECT\n",
      "  *\n",
      "FROM x\n",
      "JOIN y\n",
      "  ON x.id = y.id\n",
      "WHERE\n",
      "  x.id > 2\n"
     ]
    }
   ],
   "source": [
    "# Использование отдельного модуля - Formatting\n",
    "!python -m swissql format -q \"SELECT * from x join y on x.id = y.id where x.id > 2\" -s '{\"x\":{\"id\":\"INT\", \"name\":\"STRING\"},\"y\":{\"id\":\"INT\",\"name\":\"STRING\"}}' -o optimize"
   ]
  },
  {
   "cell_type": "code",
   "execution_count": 29,
   "metadata": {},
   "outputs": [
    {
     "name": "stdout",
     "output_type": "stream",
     "text": [
      "\u001b[33m[Style sql query use sqlfluff]\u001b[0m\n",
      "/home/quakumei/Workspace/Code/sparkySQL/SparkSQL-Analyzer/swissql/analyzers/style/intermediate.sql\n",
      "== [/home/quakumei/Workspace/Code/sparkySQL/SparkSQL-Analyzer/swissql/analyzers/style/intermediate.sql] FAIL\n",
      "L:   1 | P:   1 | L044 | Query produces an unknown number of result columns.\n",
      "L:   1 | P:   8 | L027 | Unqualified reference '*' found in select with more than\n",
      "                       | one referenced table/view.\n",
      "L:   1 | P:  10 | L010 | Keywords must be consistently upper case.\n",
      "L:   1 | P:  17 | L010 | Keywords must be consistently upper case.\n",
      "L:   1 | P:  17 | L051 | Join clauses should be fully qualified.\n",
      "L:   1 | P:  24 | L010 | Keywords must be consistently upper case.\n",
      "L:   1 | P:  39 | L010 | Keywords must be consistently upper case.\n",
      "L:   1 | P:  53 | L009 | Files must end with a single trailing newline.\n",
      "All Finished!\n",
      "\n"
     ]
    }
   ],
   "source": [
    "# Использование отдельного модуля - Style\n",
    "!python -m swissql style -q \"SELECT * from x join y on x.id = y.id where x.id > 2\" -s '{\"x\":{\"id\":\"INT\", \"name\":\"STRING\"},\"y\":{\"id\":\"INT\",\"name\":\"STRING\"}}' -o optimize"
   ]
  },
  {
   "cell_type": "code",
   "execution_count": 30,
   "metadata": {},
   "outputs": [
    {
     "name": "stdout",
     "output_type": "stream",
     "text": [
      "\u001b[33m[Detecting anti-patterns using sqlcheck]\u001b[0m\n",
      "sqlcheck version 1.2.1\n",
      "Debug build (NDEBUG not #defined)\n",
      "+-------------------------------------------------+\n",
      "|                   SQLCHECK                      |\n",
      "+-------------------------------------------------+\n",
      "> RISK LEVEL    :: ALL ANTI-PATTERNS\n",
      "> SQL FILE NAME :: temp.sql\n",
      "> COLOR MODE    :: ENABLED\n",
      "> VERBOSE MODE  :: ENABLED\n",
      "> DELIMITER     :: ;\n",
      "-------------------------------------------------\n",
      "==================== Results ===================\n",
      "\n",
      "-------------------------------------------------\n",
      "SQL Statement at line 1: \u001b[1m\u001b[31mselect * from x join y on x.id = y.id where x.id > 2;\u001b[0m\u001b[39m\n",
      "[temp.sql]: (\u001b[1m\u001b[32mHIGH RISK\u001b[0m\u001b[39m) \u001b[1m\u001b[34mSELECT *\u001b[0m\u001b[39m\n",
      "● Inefficiency in moving data to the consumer:\n",
      "When you SELECT *, you're often retrieving more columns from the database than\n",
      "your application really needs to function. This causes more data to move from\n",
      "the database server to the client, slowing access and increasing load on your\n",
      "machines, as well as taking more time to travel across the network. This is\n",
      "especially true when someone adds new columns to underlying tables that didn't\n",
      "exist and weren't needed when the original consumers coded their data access.\n",
      "\n",
      "\n",
      "● Indexing issues:\n",
      "Consider a scenario where you want to tune a query to a high level of\n",
      "performance. If you were to use *, and it returned more columns than you\n",
      "actually needed, the server would often have to perform more expensive methods\n",
      "to retrieve your data than it otherwise might. For example, you wouldn't be able\n",
      "to create an index which simply covered the columns in your SELECT list, and\n",
      "even if you did (including all columns [shudder]), the next guy who came around\n",
      "and added a column to the underlying table would cause the optimizer to ignore\n",
      "your optimized covering index, and you'd likely find that the performance of\n",
      "your query would drop substantially for no readily apparent reason.\n",
      "\n",
      "● Binding\n",
      "Problems:\n",
      "When you SELECT *, it's possible to retrieve two columns of the same name from\n",
      "two different tables. This can often crash your data consumer. Imagine a query\n",
      "that joins two tables, both of which contain a column called \"ID\". How would a\n",
      "consumer know which was which? SELECT * can also confuse views (at least in some\n",
      "versions SQL Server) when underlying table structures change -- the view is not\n",
      "rebuilt, and the data which comes back can be nonsense. And the worst part of it\n",
      "is that you can take care to name your columns whatever you want, but the next\n",
      "guy who comes along might have no way of knowing that he has to worry about\n",
      "adding a column which will collide with your already-developed names.\n",
      "[Matching Expression: \u001b[1m\u001b[34mselect *\u001b[0m\u001b[39m at line 1]\n",
      "\n",
      "\n",
      "==================== Summary ===================\n",
      "All Anti-Patterns and Hints  :: 1\n",
      ">  High Risk   :: 1\n",
      ">  Medium Risk :: 0\n",
      ">  Low Risk    :: 0\n",
      ">  Hints       :: 0\n",
      "\n"
     ]
    }
   ],
   "source": [
    "# Использование отдельного модуля - Anti_Pattern\n",
    "!python -m swissql anti_pattern -q \"SELECT * from x join y on x.id = y.id where x.id > 2\" -s '{\"x\":{\"id\":\"INT\", \"name\":\"STRING\"},\"y\":{\"id\":\"INT\",\"name\":\"STRING\"}}' -o optimize"
   ]
  },
  {
   "cell_type": "code",
   "execution_count": 31,
   "metadata": {},
   "outputs": [
    {
     "name": "stdout",
     "output_type": "stream",
     "text": [
      "\u001b[33m[Optimizing sql query using sqlglot]\u001b[0m\n",
      "Optimization: optimize\n",
      "SELECT\n",
      "  \"x\".\"id\" AS \"id\",\n",
      "  \"x\".\"name\" AS \"name\",\n",
      "  \"y\".\"id\" AS \"id\",\n",
      "  \"y\".\"name\" AS \"name\"\n",
      "FROM (\n",
      "  SELECT\n",
      "    \"x\".\"id\" AS \"id\",\n",
      "    \"x\".\"name\" AS \"name\"\n",
      "  FROM \"x\" AS \"x\"\n",
      "  WHERE\n",
      "    \"x\".\"id\" > 2\n",
      ") AS \"x\"\n",
      "JOIN (\n",
      "  SELECT\n",
      "    \"y\".\"id\" AS \"id\",\n",
      "    \"y\".\"name\" AS \"name\"\n",
      "  FROM \"y\" AS \"y\"\n",
      ") AS \"y\"\n",
      "  ON \"x\".\"id\" = \"y\".\"id\"\n"
     ]
    }
   ],
   "source": [
    "# Использование отдельного модуля - Optimize\n",
    "!python -m swissql optimize -q \"SELECT * from x join y on x.id = y.id where x.id > 2\" -s '{\"x\":{\"id\":\"INT\", \"name\":\"STRING\"},\"y\":{\"id\":\"INT\",\"name\":\"STRING\"}}' -o optimize"
   ]
  },
  {
   "cell_type": "code",
   "execution_count": 33,
   "metadata": {},
   "outputs": [
    {
     "name": "stdout",
     "output_type": "stream",
     "text": [
      "\u001b[33m[Generating syntax tree using sqlglot]\u001b[0m\n",
      "\u001b[31mswissql: error: Spark SQL parse error\u001b[0m\n"
     ]
    }
   ],
   "source": [
    "# Поддержка подсветки ошибок в консоли\n",
    "# Использование отдельного модуля - Optimize\n",
    "!python -m swissql syntax -q \"SELET *\" -s '{\"x\":{\"id\":\"}}'\n"
   ]
  },
  {
   "cell_type": "markdown",
   "metadata": {},
   "source": [
    "#### Использование пользовательских правил с помощью Lark и BNF файлов"
   ]
  },
  {
   "cell_type": "code",
   "execution_count": 73,
   "metadata": {},
   "outputs": [
    {
     "name": "stdout",
     "output_type": "stream",
     "text": [
      "filter1.lark  filter2.lark\n"
     ]
    }
   ],
   "source": [
    "!ls rules"
   ]
  },
  {
   "cell_type": "code",
   "execution_count": 74,
   "metadata": {},
   "outputs": [
    {
     "name": "stdout",
     "output_type": "stream",
     "text": [
      "SELECT WILDCARD ANTIPATTERN :END_OF_COMMENT:\n",
      "start: /./ start | pattern start | /./ | pattern\n",
      "pattern: \"SELECT *\"i\n",
      "%import common.INT\n",
      "//%ignore \" \"\n",
      "%ignore \"\\n\"\n"
     ]
    }
   ],
   "source": [
    "!cat rules/filter2.lark"
   ]
  },
  {
   "cell_type": "code",
   "execution_count": 72,
   "metadata": {},
   "outputs": [
    {
     "name": "stdout",
     "output_type": "stream",
     "text": [
      "\u001b[33m[Finding rules using lark]\u001b[0m\n",
      "Rule filter2.lark found:\n",
      "Positions: (1, 1)\n",
      "Comment: SELECT WILDCARD ANTIPATTERN \n",
      "\n"
     ]
    }
   ],
   "source": [
    "# Использование отдельного модусля - Rules\n",
    "!python -m swissql rule -r all -q \"SELECT * from x join y on x.id = y.id where x.id > 2\" -s '{\"x\":{\"id\":\"INT\", \"name\":\"STRING\"},\"y\":{\"id\":\"INT\",\"name\":\"STRING\"}}' -o optimize"
   ]
  },
  {
   "cell_type": "markdown",
   "metadata": {},
   "source": [
    "### Extract SQL from Python"
   ]
  },
  {
   "cell_type": "code",
   "execution_count": 88,
   "metadata": {},
   "outputs": [
    {
     "data": {
      "text/plain": [
       "'/home/quakumei/Workspace/Code/sparkySQL/SparkSQL-Analyzer/examples/example3.py'"
      ]
     },
     "execution_count": 88,
     "metadata": {},
     "output_type": "execute_result"
    }
   ],
   "source": [
    "import os\n",
    "os.path.abspath('examples/example3.py')"
   ]
  },
  {
   "cell_type": "code",
   "execution_count": 125,
   "metadata": {},
   "outputs": [
    {
     "name": "stdout",
     "output_type": "stream",
     "text": [
      "\u001b[33m[Extracting Spark SQLs from file using lark]\u001b[0m\n",
      "Found:\n",
      "SELECT * FROM table1\n",
      "SELECT * FROM table1 WHERE id = 1\n",
      "SELECT * FROM table1 WHERE id = 1 AND name = \"John\" OR name = \"Jane\" OR name = \"Jack\"\n",
      "SELECT * FROM table\n",
      "select * from tableA\n"
     ]
    }
   ],
   "source": [
    "# Использование отдельного модуля - Swissql extractor\n",
    "!python -m swissql extract -f examples/example3.py"
   ]
  },
  {
   "cell_type": "code",
   "execution_count": null,
   "metadata": {},
   "outputs": [],
   "source": [
    "# Использование отдельного модуля - Swissql extractor\n",
    "import swissql\n",
    "from swissql.analyzers.rule_checker.sql_finder import SqlFinder\n",
    "SqlFinder.initialize()\n",
    "print(SqlFinder.extract_sql_from_file('examples/example3.py'))"
   ]
  },
  {
   "cell_type": "code",
   "execution_count": null,
   "metadata": {},
   "outputs": [],
   "source": []
  }
 ],
 "metadata": {
  "kernelspec": {
   "display_name": "Python 3.10.4 64-bit",
   "language": "python",
   "name": "python3"
  },
  "language_info": {
   "codemirror_mode": {
    "name": "ipython",
    "version": 3
   },
   "file_extension": ".py",
   "mimetype": "text/x-python",
   "name": "python",
   "nbconvert_exporter": "python",
   "pygments_lexer": "ipython3",
   "version": "3.10.4"
  },
  "orig_nbformat": 4,
  "vscode": {
   "interpreter": {
    "hash": "916dbcbb3f70747c44a77c7bcd40155683ae19c65e1c03b4aa3499c5328201f1"
   }
  }
 },
 "nbformat": 4,
 "nbformat_minor": 2
}
