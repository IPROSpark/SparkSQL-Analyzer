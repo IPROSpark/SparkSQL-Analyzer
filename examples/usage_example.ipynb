{
 "cells": [
  {
   "cell_type": "code",
   "execution_count": 2,
   "metadata": {},
   "outputs": [
    {
     "name": "stdout",
     "output_type": "stream",
     "text": [
      "/home/quakumei/Workspace/Code/sparkySQL/SparkSQL-Analyzer\n"
     ]
    }
   ],
   "source": [
    "%cd .."
   ]
  },
  {
   "cell_type": "code",
   "execution_count": 142,
   "metadata": {},
   "outputs": [
    {
     "name": "stdout",
     "output_type": "stream",
     "text": [
      "usage: swissql [-h] -q Q -f F [-x] [-s S] [-F F]\n",
      "               [-o {optimize,normalize,eliminate_subqueries,expand_multi_table_selects,isolate_table_selects,optimize_joins,pushdown_predicates,pushdown_projections,qualify_tables,qualify_columns,quote_identities,unnest_subqueries}]\n",
      "               [-r R] [-c {syntax,format,optimize,style,anti_pattern,rule}]\n",
      "               [--rules-sqlfluff RULES_SQLFLUFF] [--dialect DIALECT]\n",
      "               [--output-mode {str,json}]\n",
      "               {syntax,format,optimize,style,anti_pattern,rule,all,construct}\n",
      "\n",
      "Spark SQL analytic engine\n",
      "\n",
      "positional arguments:\n",
      "  {syntax,format,optimize,style,anti_pattern,rule,all,construct}\n",
      "                        mode of operation\n",
      "\n",
      "optional arguments:\n",
      "  -h, --help            show this help message and exit\n",
      "  -q Q                  specify SQL query\n",
      "  -f F                  specify file to read SQL query from\n",
      "  -x                    specify if queries should be extracted from source\n",
      "                        files\n",
      "  -s S                  specify schema: Schema is a mapping in one of the\n",
      "                        following forms: 1. {table: {col: type}} 2. {db:\n",
      "                        {table: {col: type}}} 3. {catalog: {db: {table: {col:\n",
      "                        type}}}} Example types: INT, STRING\n",
      "  -F F                  specify schema file to read schema from\n",
      "  -o {optimize,normalize,eliminate_subqueries,expand_multi_table_selects,isolate_table_selects,optimize_joins,pushdown_predicates,pushdown_projections,qualify_tables,qualify_columns,quote_identities,unnest_subqueries}\n",
      "                        specify optimizers\n",
      "  -r R                  specify rule files as list\n",
      "  -c {syntax,format,optimize,style,anti_pattern,rule}\n",
      "                        specify modes for analysis constructor\n",
      "  --rules-sqlfluff RULES_SQLFLUFF\n",
      "                        specify rules file for sqlfluff\n",
      "  --dialect DIALECT     specify sqlfluff dialect\n",
      "  --output-mode {str,json}\n",
      "                        specify output format\n"
     ]
    }
   ],
   "source": [
    "!python -m swissql -h"
   ]
  },
  {
   "cell_type": "code",
   "execution_count": 5,
   "metadata": {},
   "outputs": [
    {
     "name": "stdout",
     "output_type": "stream",
     "text": [
      "\u001b[33m[Analyzing query:\u001b[35m SELECT * from x join y on x.id = y.id where x.id > 2\u001b[33m]\u001b[37m\n",
      "\u001b[33m[Generating syntax tree using sqlglot]\u001b[0m\n",
      "(SELECT expressions: \n",
      "  (STAR ), from: \n",
      "  (FROM expressions: \n",
      "    (TABLE this: \n",
      "      (IDENTIFIER this: x, quoted: False))), joins: \n",
      "  (JOIN this: \n",
      "    (TABLE this: \n",
      "      (IDENTIFIER this: y, quoted: False)), on: \n",
      "    (EQ this: \n",
      "      (COLUMN this: \n",
      "        (IDENTIFIER this: id, quoted: False), table: \n",
      "        (IDENTIFIER this: x, quoted: False)), expression: \n",
      "      (COLUMN this: \n",
      "        (IDENTIFIER this: id, quoted: False), table: \n",
      "        (IDENTIFIER this: y, quoted: False)))), where: \n",
      "  (WHERE this: \n",
      "    (GT this: \n",
      "      (COLUMN this: \n",
      "        (IDENTIFIER this: id, quoted: False), table: \n",
      "        (IDENTIFIER this: x, quoted: False)), expression: \n",
      "      (LITERAL this: 2, is_string: False))))\n",
      "\n",
      "\u001b[33m[Formatting sql query using sqlglot]\u001b[0m\n",
      "SELECT\n",
      "  *\n",
      "FROM x\n",
      "JOIN y\n",
      "  ON x.id = y.id\n",
      "WHERE\n",
      "  x.id > 2\n",
      "\n",
      "\u001b[33m[Optimizing sql query using sqlglot]\u001b[0m\n",
      "Optimization: optimize\n",
      "SELECT\n",
      "  \"x\".\"id\" AS \"id\",\n",
      "  \"x\".\"name\" AS \"name\",\n",
      "  \"y\".\"id\" AS \"id\",\n",
      "  \"y\".\"name\" AS \"name\"\n",
      "FROM (\n",
      "  SELECT\n",
      "    \"x\".\"id\" AS \"id\",\n",
      "    \"x\".\"name\" AS \"name\"\n",
      "  FROM \"x\" AS \"x\"\n",
      "  WHERE\n",
      "    \"x\".\"id\" > 2\n",
      ") AS \"x\"\n",
      "JOIN (\n",
      "  SELECT\n",
      "    \"y\".\"id\" AS \"id\",\n",
      "    \"y\".\"name\" AS \"name\"\n",
      "  FROM \"y\" AS \"y\"\n",
      ") AS \"y\"\n",
      "  ON \"x\".\"id\" = \"y\".\"id\"\n",
      "\n",
      "\u001b[33m[Style sql query use sqlfluff]\u001b[0m\n",
      "/home/quakumei/Workspace/Code/sparkySQL/SparkSQL-Analyzer/swissql/analyzers/style/intermediate.sql\n",
      "== [/home/quakumei/Workspace/Code/sparkySQL/SparkSQL-Analyzer/swissql/analyzers/style/intermediate.sql] FAIL\n",
      "L:   1 | P:   1 | L044 | Query produces an unknown number of result columns.\n",
      "L:   1 | P:   8 | L027 | Unqualified reference '*' found in select with more than\n",
      "                       | one referenced table/view.\n",
      "L:   1 | P:  10 | L010 | Keywords must be consistently upper case.\n",
      "L:   1 | P:  17 | L010 | Keywords must be consistently upper case.\n",
      "L:   1 | P:  17 | L051 | Join clauses should be fully qualified.\n",
      "L:   1 | P:  24 | L010 | Keywords must be consistently upper case.\n",
      "L:   1 | P:  39 | L010 | Keywords must be consistently upper case.\n",
      "L:   1 | P:  53 | L009 | Files must end with a single trailing newline.\n",
      "All Finished!\n",
      "\n",
      "\n",
      "\u001b[33m[Detecting anti-patterns using sqlcheck]\u001b[0m\n",
      "sh: 1: sqlcheck: not found\n",
      "\u001b[31mswissql: error: sqlcheck not found in system\u001b[0m\n",
      "\n",
      "\u001b[33m[Finding rules using lark]\u001b[0m\n",
      "\u001b[31mswissql: error: no rule specified\u001b[0m\n",
      "\n"
     ]
    }
   ],
   "source": [
    "# Общий случай - использование всех модулей\n",
    "!python -m swissql all -q \"SELECT * from x join y on x.id = y.id where x.id > 2\" -s '{\"x\":{\"id\":\"INT\", \"name\":\"STRING\"},\"y\":{\"id\":\"INT\",\"name\":\"STRING\"}}' -o optimize\n"
   ]
  },
  {
   "cell_type": "code",
   "execution_count": 145,
   "metadata": {},
   "outputs": [
    {
     "name": "stdout",
     "output_type": "stream",
     "text": [
      "\u001b[33m[Analyzing query:\u001b[35m SELECT * from x join y on x.id = y.id where x.id > 2\u001b[33m]\u001b[37m\n",
      "\u001b[33m[Style sql query use sqlfluff]\u001b[0m\n",
      "/home/quakumei/Workspace/Code/sparkySQL/SparkSQL-Analyzer/swissql/analyzers/style/intermediate.sql\n",
      "== [/home/quakumei/Workspace/Code/sparkySQL/SparkSQL-Analyzer/swissql/analyzers/style/intermediate.sql] FAIL\n",
      "L:   1 | P:   1 | L044 | Query produces an unknown number of result columns.\n",
      "L:   1 | P:   8 | L027 | Unqualified reference '*' found in select with more than\n",
      "                       | one referenced table/view.\n",
      "L:   1 | P:  10 | L010 | Keywords must be consistently upper case.\n",
      "L:   1 | P:  17 | L010 | Keywords must be consistently upper case.\n",
      "L:   1 | P:  17 | L051 | Join clauses should be fully qualified.\n",
      "L:   1 | P:  24 | L010 | Keywords must be consistently upper case.\n",
      "L:   1 | P:  39 | L010 | Keywords must be consistently upper case.\n",
      "L:   1 | P:  53 | L009 | Files must end with a single trailing newline.\n",
      "All Finished!\n",
      "\n",
      "\n",
      "\u001b[33m[Formatting sql query using sqlglot]\u001b[0m\n",
      "SELECT\n",
      "  *\n",
      "FROM x\n",
      "JOIN y\n",
      "  ON x.id = y.id\n",
      "WHERE\n",
      "  x.id > 2\n",
      "\n"
     ]
    }
   ],
   "source": [
    "# Используем construst для вывода нескольких модулей сразу\n",
    "!python -m swissql construct -c style -c format -q \"SELECT * from x join y on x.id = y.id where x.id > 2\" -s '{\"x\":{\"id\":\"INT\", \"name\":\"STRING\"},\"y\":{\"id\":\"INT\",\"name\":\"STRING\"}}' -o optimize"
   ]
  },
  {
   "cell_type": "code",
   "execution_count": 80,
   "metadata": {},
   "outputs": [
    {
     "name": "stdout",
     "output_type": "stream",
     "text": [
      "\u001b[33m[Generating syntax tree using sqlglot]\u001b[0m\n",
      "(SELECT expressions: \n",
      "  (COLUMN this: \n",
      "    (IDENTIFIER this: id, quoted: False), table: \n",
      "    (IDENTIFIER this: x, quoted: False)), \n",
      "  (COLUMN this: \n",
      "    (IDENTIFIER this: name, quoted: False), table: \n",
      "    (IDENTIFIER this: x, quoted: False)), \n",
      "  (COLUMN this: \n",
      "    (IDENTIFIER this: name, quoted: False), table: \n",
      "    (IDENTIFIER this: y, quoted: False)), from: \n",
      "  (FROM expressions: \n",
      "    (TABLE this: \n",
      "      (IDENTIFIER this: x, quoted: False))), joins: \n",
      "  (JOIN this: \n",
      "    (TABLE this: \n",
      "      (IDENTIFIER this: y, quoted: False)), on: \n",
      "    (EQ this: \n",
      "      (COLUMN this: \n",
      "        (IDENTIFIER this: id, quoted: False), table: \n",
      "        (IDENTIFIER this: x, quoted: False)), expression: \n",
      "      (COLUMN this: \n",
      "        (IDENTIFIER this: id, quoted: False), table: \n",
      "        (IDENTIFIER this: y, quoted: False)))), where: \n",
      "  (WHERE this: \n",
      "    (GT this: \n",
      "      (COLUMN this: \n",
      "        (IDENTIFIER this: id, quoted: False), table: \n",
      "        (IDENTIFIER this: x, quoted: False)), expression: \n",
      "      (LITERAL this: 2, is_string: False))))\n",
      "\n",
      "\u001b[33m[Formatting sql query using sqlglot]\u001b[0m\n",
      "SELECT\n",
      "  x.id,\n",
      "  x.name,\n",
      "  y.name\n",
      "FROM x\n",
      "JOIN y\n",
      "  ON x.id = y.id\n",
      "WHERE\n",
      "  x.id > 2\n",
      "\n",
      "\u001b[33m[Optimizing sql query using sqlglot]\u001b[0m\n",
      "Optimization: optimize\n",
      "SELECT\n",
      "  \"x\".\"id\" AS \"id\",\n",
      "  \"x\".\"name\" AS \"name\",\n",
      "  \"y\".\"name\" AS \"name\"\n",
      "FROM (\n",
      "  SELECT\n",
      "    \"x\".\"id\" AS \"id\",\n",
      "    \"x\".\"name\" AS \"name\"\n",
      "  FROM \"x\" AS \"x\"\n",
      "  WHERE\n",
      "    \"x\".\"id\" > 2\n",
      ") AS \"x\"\n",
      "JOIN (\n",
      "  SELECT\n",
      "    \"y\".\"id\" AS \"id\",\n",
      "    \"y\".\"name\" AS \"name\"\n",
      "  FROM \"y\" AS \"y\"\n",
      ") AS \"y\"\n",
      "  ON \"x\".\"id\" = \"y\".\"id\"\n",
      "\n",
      "\u001b[33m[Style sql query use sqlfluff]\u001b[0m\n",
      "== [examples/example0.sql] FAIL                                                 \n",
      "L:   1 | P:   1 | L036 | Select targets should be on a new line unless there is\n",
      "                       | only one select target.\n",
      "L:   1 | P:  29 | L010 | Keywords must be consistently upper case.\n",
      "L:   1 | P:  36 | L010 | Keywords must be consistently upper case.\n",
      "L:   1 | P:  36 | L051 | Join clauses should be fully qualified.\n",
      "L:   1 | P:  43 | L010 | Keywords must be consistently upper case.\n",
      "L:   1 | P:  58 | L010 | Keywords must be consistently upper case.\n",
      "L:   1 | P:  72 | L009 | Files must end with a single trailing newline.\n",
      "All Finished!\n",
      "\n",
      "\n",
      "\u001b[33m[Detecting anti-patterns using sqlcheck]\u001b[0m\n",
      "sqlcheck version 1.2.1\n",
      "Debug build (NDEBUG not #defined)\n",
      "+-------------------------------------------------+\n",
      "|                   SQLCHECK                      |\n",
      "+-------------------------------------------------+\n",
      "> RISK LEVEL    :: ALL ANTI-PATTERNS\n",
      "> SQL FILE NAME :: examples/example0.sql\n",
      "> COLOR MODE    :: ENABLED\n",
      "> VERBOSE MODE  :: ENABLED\n",
      "> DELIMITER     :: ;\n",
      "-------------------------------------------------\n",
      "==================== Results ===================\n",
      "No issues found.\n",
      "\n",
      "\n",
      "\u001b[33m[Finding rules using lark]\u001b[0m\n",
      "\u001b[31mswissql: error: no rule specified\u001b[0m\n",
      "\n"
     ]
    }
   ],
   "source": [
    "# Использование файла запроса и json файла схемы\n",
    "!python -m swissql all -f examples/example0.sql -F examples/example0.schema.json -o optimize\n"
   ]
  },
  {
   "cell_type": "code",
   "execution_count": 127,
   "metadata": {},
   "outputs": [
    {
     "name": "stdout",
     "output_type": "stream",
     "text": [
      "\u001b[33m[Generating syntax tree using sqlglot]\u001b[0m\n",
      "(SELECT expressions: \n",
      "  (STAR ), from: \n",
      "  (FROM expressions: \n",
      "    (TABLE this: \n",
      "      (IDENTIFIER this: x, quoted: False))), joins: \n",
      "  (JOIN this: \n",
      "    (TABLE this: \n",
      "      (IDENTIFIER this: y, quoted: False)), on: \n",
      "    (EQ this: \n",
      "      (COLUMN this: \n",
      "        (IDENTIFIER this: id, quoted: False), table: \n",
      "        (IDENTIFIER this: x, quoted: False)), expression: \n",
      "      (COLUMN this: \n",
      "        (IDENTIFIER this: id, quoted: False), table: \n",
      "        (IDENTIFIER this: y, quoted: False)))), where: \n",
      "  (WHERE this: \n",
      "    (GT this: \n",
      "      (COLUMN this: \n",
      "        (IDENTIFIER this: id, quoted: False), table: \n",
      "        (IDENTIFIER this: x, quoted: False)), expression: \n",
      "      (LITERAL this: 2, is_string: False))))\n"
     ]
    }
   ],
   "source": [
    "# Использование отдельного модуля - Syntax\n",
    "!python -m swissql syntax -q \"SELECT * from x join y on x.id = y.id where x.id > 2\""
   ]
  },
  {
   "cell_type": "code",
   "execution_count": 28,
   "metadata": {},
   "outputs": [
    {
     "name": "stdout",
     "output_type": "stream",
     "text": [
      "\u001b[33m[Formatting sql query using sqlglot]\u001b[0m\n",
      "SELECT\n",
      "  *\n",
      "FROM x\n",
      "JOIN y\n",
      "  ON x.id = y.id\n",
      "WHERE\n",
      "  x.id > 2\n"
     ]
    }
   ],
   "source": [
    "# Использование отдельного модуля - Formatting\n",
    "!python -m swissql format -q \"SELECT * from x join y on x.id = y.id where x.id > 2\""
   ]
  },
  {
   "cell_type": "code",
   "execution_count": 29,
   "metadata": {},
   "outputs": [
    {
     "name": "stdout",
     "output_type": "stream",
     "text": [
      "\u001b[33m[Style sql query use sqlfluff]\u001b[0m\n",
      "/home/quakumei/Workspace/Code/sparkySQL/SparkSQL-Analyzer/swissql/analyzers/style/intermediate.sql\n",
      "== [/home/quakumei/Workspace/Code/sparkySQL/SparkSQL-Analyzer/swissql/analyzers/style/intermediate.sql] FAIL\n",
      "L:   1 | P:   1 | L044 | Query produces an unknown number of result columns.\n",
      "L:   1 | P:   8 | L027 | Unqualified reference '*' found in select with more than\n",
      "                       | one referenced table/view.\n",
      "L:   1 | P:  10 | L010 | Keywords must be consistently upper case.\n",
      "L:   1 | P:  17 | L010 | Keywords must be consistently upper case.\n",
      "L:   1 | P:  17 | L051 | Join clauses should be fully qualified.\n",
      "L:   1 | P:  24 | L010 | Keywords must be consistently upper case.\n",
      "L:   1 | P:  39 | L010 | Keywords must be consistently upper case.\n",
      "L:   1 | P:  53 | L009 | Files must end with a single trailing newline.\n",
      "All Finished!\n",
      "\n"
     ]
    }
   ],
   "source": [
    "# Использование отдельного модуля - Style\n",
    "!python -m swissql style -q \"SELECT * from x join y on x.id = y.id where x.id > 2\""
   ]
  },
  {
   "cell_type": "code",
   "execution_count": 30,
   "metadata": {},
   "outputs": [
    {
     "name": "stdout",
     "output_type": "stream",
     "text": [
      "\u001b[33m[Detecting anti-patterns using sqlcheck]\u001b[0m\n",
      "sqlcheck version 1.2.1\n",
      "Debug build (NDEBUG not #defined)\n",
      "+-------------------------------------------------+\n",
      "|                   SQLCHECK                      |\n",
      "+-------------------------------------------------+\n",
      "> RISK LEVEL    :: ALL ANTI-PATTERNS\n",
      "> SQL FILE NAME :: temp.sql\n",
      "> COLOR MODE    :: ENABLED\n",
      "> VERBOSE MODE  :: ENABLED\n",
      "> DELIMITER     :: ;\n",
      "-------------------------------------------------\n",
      "==================== Results ===================\n",
      "\n",
      "-------------------------------------------------\n",
      "SQL Statement at line 1: \u001b[1m\u001b[31mselect * from x join y on x.id = y.id where x.id > 2;\u001b[0m\u001b[39m\n",
      "[temp.sql]: (\u001b[1m\u001b[32mHIGH RISK\u001b[0m\u001b[39m) \u001b[1m\u001b[34mSELECT *\u001b[0m\u001b[39m\n",
      "● Inefficiency in moving data to the consumer:\n",
      "When you SELECT *, you're often retrieving more columns from the database than\n",
      "your application really needs to function. This causes more data to move from\n",
      "the database server to the client, slowing access and increasing load on your\n",
      "machines, as well as taking more time to travel across the network. This is\n",
      "especially true when someone adds new columns to underlying tables that didn't\n",
      "exist and weren't needed when the original consumers coded their data access.\n",
      "\n",
      "\n",
      "● Indexing issues:\n",
      "Consider a scenario where you want to tune a query to a high level of\n",
      "performance. If you were to use *, and it returned more columns than you\n",
      "actually needed, the server would often have to perform more expensive methods\n",
      "to retrieve your data than it otherwise might. For example, you wouldn't be able\n",
      "to create an index which simply covered the columns in your SELECT list, and\n",
      "even if you did (including all columns [shudder]), the next guy who came around\n",
      "and added a column to the underlying table would cause the optimizer to ignore\n",
      "your optimized covering index, and you'd likely find that the performance of\n",
      "your query would drop substantially for no readily apparent reason.\n",
      "\n",
      "● Binding\n",
      "Problems:\n",
      "When you SELECT *, it's possible to retrieve two columns of the same name from\n",
      "two different tables. This can often crash your data consumer. Imagine a query\n",
      "that joins two tables, both of which contain a column called \"ID\". How would a\n",
      "consumer know which was which? SELECT * can also confuse views (at least in some\n",
      "versions SQL Server) when underlying table structures change -- the view is not\n",
      "rebuilt, and the data which comes back can be nonsense. And the worst part of it\n",
      "is that you can take care to name your columns whatever you want, but the next\n",
      "guy who comes along might have no way of knowing that he has to worry about\n",
      "adding a column which will collide with your already-developed names.\n",
      "[Matching Expression: \u001b[1m\u001b[34mselect *\u001b[0m\u001b[39m at line 1]\n",
      "\n",
      "\n",
      "==================== Summary ===================\n",
      "All Anti-Patterns and Hints  :: 1\n",
      ">  High Risk   :: 1\n",
      ">  Medium Risk :: 0\n",
      ">  Low Risk    :: 0\n",
      ">  Hints       :: 0\n",
      "\n"
     ]
    }
   ],
   "source": [
    "# Использование отдельного модуля - Anti_Pattern\n",
    "!python -m swissql anti_pattern -q \"SELECT * from x join y on x.id = y.id where x.id > 2\" -s '{\"x\":{\"id\":\"INT\", \"name\":\"STRING\"},\"y\":{\"id\":\"INT\",\"name\":\"STRING\"}}' -o optimize"
   ]
  },
  {
   "cell_type": "code",
   "execution_count": 128,
   "metadata": {},
   "outputs": [
    {
     "name": "stdout",
     "output_type": "stream",
     "text": [
      "\u001b[33m[Optimizing sql query using sqlglot]\u001b[0m\n",
      "Optimization: optimize\n",
      "SELECT\n",
      "  \"x\".\"id\" AS \"id\",\n",
      "  \"x\".\"name\" AS \"name\",\n",
      "  \"y\".\"id\" AS \"id\",\n",
      "  \"y\".\"name\" AS \"name\"\n",
      "FROM (\n",
      "  SELECT\n",
      "    \"x\".\"id\" AS \"id\",\n",
      "    \"x\".\"name\" AS \"name\"\n",
      "  FROM \"x\" AS \"x\"\n",
      "  WHERE\n",
      "    \"x\".\"id\" > 2\n",
      ") AS \"x\"\n",
      "JOIN (\n",
      "  SELECT\n",
      "    \"y\".\"id\" AS \"id\",\n",
      "    \"y\".\"name\" AS \"name\"\n",
      "  FROM \"y\" AS \"y\"\n",
      ") AS \"y\"\n",
      "  ON \"x\".\"id\" = \"y\".\"id\"\n"
     ]
    }
   ],
   "source": [
    "# Использование отдельного модуля - Optimize\n",
    "!python -m swissql optimize -q \"SELECT * from x join y on x.id = y.id where x.id > 2\" -s '{\"x\":{\"id\":\"INT\", \"name\":\"STRING\"},\"y\":{\"id\":\"INT\",\"name\":\"STRING\"}}' -o optimize"
   ]
  },
  {
   "cell_type": "code",
   "execution_count": 33,
   "metadata": {},
   "outputs": [
    {
     "name": "stdout",
     "output_type": "stream",
     "text": [
      "\u001b[33m[Generating syntax tree using sqlglot]\u001b[0m\n",
      "\u001b[31mswissql: error: Spark SQL parse error\u001b[0m\n"
     ]
    }
   ],
   "source": [
    "# Поддержка подсветки ошибок в консоли\n",
    "# Использование отдельного модуля - Optimize\n",
    "!python -m swissql syntax -q \"SELET *\" -s '{\"x\":{\"id\":\"}}'\n"
   ]
  },
  {
   "cell_type": "markdown",
   "metadata": {},
   "source": [
    "#### Использование пользовательских правил с помощью Lark и BNF файлов"
   ]
  },
  {
   "cell_type": "code",
   "execution_count": 73,
   "metadata": {},
   "outputs": [
    {
     "name": "stdout",
     "output_type": "stream",
     "text": [
      "filter1.lark  filter2.lark\n"
     ]
    }
   ],
   "source": [
    "!ls rules"
   ]
  },
  {
   "cell_type": "code",
   "execution_count": 74,
   "metadata": {},
   "outputs": [
    {
     "name": "stdout",
     "output_type": "stream",
     "text": [
      "SELECT WILDCARD ANTIPATTERN :END_OF_COMMENT:\n",
      "start: /./ start | pattern start | /./ | pattern\n",
      "pattern: \"SELECT *\"i\n",
      "%import common.INT\n",
      "//%ignore \" \"\n",
      "%ignore \"\\n\"\n"
     ]
    }
   ],
   "source": [
    "!cat rules/filter2.lark"
   ]
  },
  {
   "cell_type": "code",
   "execution_count": 72,
   "metadata": {},
   "outputs": [
    {
     "name": "stdout",
     "output_type": "stream",
     "text": [
      "\u001b[33m[Finding rules using lark]\u001b[0m\n",
      "Rule filter2.lark found:\n",
      "Positions: (1, 1)\n",
      "Comment: SELECT WILDCARD ANTIPATTERN \n",
      "\n"
     ]
    }
   ],
   "source": [
    "# Использование отдельного модусля - Rules\n",
    "!python -m swissql rule -r all -q \"SELECT * from x join y on x.id = y.id where x.id > 2\" -s '{\"x\":{\"id\":\"INT\", \"name\":\"STRING\"},\"y\":{\"id\":\"INT\",\"name\":\"STRING\"}}' -o optimize"
   ]
  },
  {
   "cell_type": "markdown",
   "metadata": {},
   "source": [
    "### Extract SQL from Python"
   ]
  },
  {
   "cell_type": "code",
   "execution_count": 88,
   "metadata": {},
   "outputs": [
    {
     "data": {
      "text/plain": [
       "'/home/quakumei/Workspace/Code/sparkySQL/SparkSQL-Analyzer/examples/example3.py'"
      ]
     },
     "execution_count": 88,
     "metadata": {},
     "output_type": "execute_result"
    }
   ],
   "source": [
    "import os\n",
    "os.path.abspath('examples/example3.py')"
   ]
  },
  {
   "cell_type": "code",
   "execution_count": 129,
   "metadata": {},
   "outputs": [
    {
     "name": "stdout",
     "output_type": "stream",
     "text": [
      "# Example for extracting SQL from a file:\n",
      "\n",
      "from pyspark.sql import SparkSession\n",
      "from pyspark.sql.types import StructType, StructField, IntegerType\n",
      "from datetime import datetime, date\n",
      "from pyspark.sql import Row\n",
      "\n",
      "def init_spark():\n",
      "    spark = SparkSession.builder.appName(\"HelloWorld\").getOrCreate()\n",
      "    sc = spark.sparkContext\n",
      "    return spark, sc\n",
      "\n",
      "\n",
      "# SQl Queries\n",
      "sql_queries = [\n",
      "    'SELECT * FROM table1;',\n",
      "    'SELECT * FROM table1 WHERE id = 1;',\n",
      "    'SELECT * FROM table1 WHERE id = 1 AND name = \"John\" OR name = \"Jane\" OR name = \"Jack\";',\n",
      "]\n",
      "\n",
      "def main():\n",
      "    spark_sql_queries = [\n",
      "        \"SELECT * FROM table\",\n",
      "    ]\n",
      "\n",
      "\n",
      "    spark, sc = init_spark()\n",
      "    df = spark.createDataFrame([\n",
      "    Row(a=1, b=2., c='string1', d=date(2000, 1, 1), e=datetime(2000, 1, 1, 12, 0)),\n",
      "    Row(a=2, b=3., c='string2', d=date(2000, 2, 1), e=datetime(2000, 1, 2, 12, 0)),\n",
      "    Row(a=4, b=5., c='string3', d=date(2000, 3, 1), e=datetime(2000, 1, 3, 12, 0))\n",
      "    ])\n",
      "    df.createOrReplaceGlobalTempView(\"tableA\")\n",
      "    spark.sql(\"select * from tableA\").show()\n",
      "\n",
      "\n",
      "if __name__ == \"__main__\":\n",
      "    main()\n",
      "\n"
     ]
    }
   ],
   "source": [
    "!cat examples/example3.py"
   ]
  },
  {
   "cell_type": "code",
   "execution_count": 125,
   "metadata": {},
   "outputs": [
    {
     "name": "stdout",
     "output_type": "stream",
     "text": [
      "\u001b[33m[Extracting Spark SQLs from file using lark]\u001b[0m\n",
      "Found:\n",
      "SELECT * FROM table1\n",
      "SELECT * FROM table1 WHERE id = 1\n",
      "SELECT * FROM table1 WHERE id = 1 AND name = \"John\" OR name = \"Jane\" OR name = \"Jack\"\n",
      "SELECT * FROM table\n",
      "select * from tableA\n"
     ]
    }
   ],
   "source": [
    "# Использование отдельного модуля - Swissql extractor\n",
    "!python -m swissql extract -f examples/example3.py"
   ]
  },
  {
   "cell_type": "code",
   "execution_count": null,
   "metadata": {},
   "outputs": [],
   "source": [
    "# Использование отдельного модуля - Swissql extractor\n",
    "import swissql\n",
    "from swissql.analyzers.rule_checker.sql_finder import SqlFinder\n",
    "SqlFinder.initialize()\n",
    "print(SqlFinder.extract_sql_from_file('examples/example3.py'))"
   ]
  },
  {
   "cell_type": "code",
   "execution_count": 6,
   "metadata": {},
   "outputs": [
    {
     "name": "stdout",
     "output_type": "stream",
     "text": [
      "SELECT startDate, endDate, \n",
      "  DATEDIFF( endDate, startDate ) AS diff_days,\n",
      "  CAST( months_between( endDate, startDate ) AS INT ) AS diff_months      \n",
      "from yourTable\n",
      "ORDER BY 1;"
     ]
    }
   ],
   "source": [
    "# Больше запросов!\n",
    "!cat examples/example4.sql"
   ]
  },
  {
   "cell_type": "code",
   "execution_count": 10,
   "metadata": {},
   "outputs": [
    {
     "name": "stdout",
     "output_type": "stream",
     "text": [
      "\u001b[33m[Analyzing query:\u001b[35m SELECT startDate, endDate, \n",
      "  DATEDIFF( endDate, startDate ) AS diff_days,\n",
      "  CAST( months_between( endDate, startDate ) AS INT ) AS diff_months      \n",
      "from yourTable\n",
      "ORDER BY 1\u001b[33m]\u001b[37m\n",
      "\u001b[33m[Generating syntax tree using sqlglot]\u001b[0m\n",
      "(SELECT expressions: \n",
      "  (COLUMN this: \n",
      "    (IDENTIFIER this: startDate, quoted: False)), \n",
      "  (COLUMN this: \n",
      "    (IDENTIFIER this: endDate, quoted: False)), \n",
      "  (ALIAS this: \n",
      "    (DATEDIFF this: \n",
      "      (TSORDSTODATE this: \n",
      "        (COLUMN this: \n",
      "          (IDENTIFIER this: endDate, quoted: False))), expression: \n",
      "      (TSORDSTODATE this: \n",
      "        (COLUMN this: \n",
      "          (IDENTIFIER this: startDate, quoted: False)))), alias: \n",
      "    (IDENTIFIER this: diff_days, quoted: False)), \n",
      "  (ALIAS this: \n",
      "    (TRYCAST this: \n",
      "      (ANONYMOUS this: MONTHS_BETWEEN, expressions: \n",
      "        (COLUMN this: \n",
      "          (IDENTIFIER this: endDate, quoted: False)), \n",
      "        (COLUMN this: \n",
      "          (IDENTIFIER this: startDate, quoted: False))), to: \n",
      "      (DATATYPE this: Type.INT, nested: False)), alias: \n",
      "    (IDENTIFIER this: diff_months, quoted: False)), from: \n",
      "  (FROM expressions: \n",
      "    (TABLE this: \n",
      "      (IDENTIFIER this: yourTable, quoted: False))), order: \n",
      "  (ORDER expressions: \n",
      "    (ORDERED this: \n",
      "      (LITERAL this: 1, is_string: False))))\n",
      "\n",
      "\u001b[33m[Formatting sql query using sqlglot]\u001b[0m\n",
      "SELECT\n",
      "  startDate,\n",
      "  endDate,\n",
      "  DATEDIFF(endDate, startDate) AS diff_days,\n",
      "  CAST(MONTHS_BETWEEN(endDate, startDate) AS INT) AS diff_months\n",
      "FROM yourTable\n",
      "ORDER BY\n",
      "  1\n",
      "\n",
      "\u001b[33m[Optimizing sql query using sqlglot]\u001b[0m\n",
      "Optimization: optimize\n",
      "SELECT\n",
      "  \"yourTable\".\"startDate\" AS \"startDate\",\n",
      "  \"yourTable\".\"endDate\" AS \"endDate\",\n",
      "  DATE_DIFF(TS_OR_DS_TO_DATE(\"yourTable\".\"endDate\"), TS_OR_DS_TO_DATE(\"yourTable\".\"startDate\")) AS \"diff_days\",\n",
      "  TRY_CAST(MONTHS_BETWEEN(\"yourTable\".\"endDate\", \"yourTable\".\"startDate\") AS INT) AS \"diff_months\"\n",
      "FROM \"yourTable\" AS \"yourTable\"\n",
      "ORDER BY\n",
      "  1\n",
      "\n",
      "\u001b[33m[Style sql query use sqlfluff]\u001b[0m\n",
      "== [examples/example4.sql] FAIL                                                 \n",
      "L:   1 | P:   1 | L036 | Select targets should be on a new line unless there is\n",
      "                       | only one select target.\n",
      "L:   1 | P:   8 | L014 | Unquoted identifiers must be consistently upper case.\n",
      "L:   1 | P:  19 | L014 | Unquoted identifiers must be consistently upper case.\n",
      "L:   1 | P:  27 | L001 | Unnecessary trailing whitespace.\n",
      "L:   2 | P:   3 | L003 | Expected 1 indentations, found 0 [compared to line 01]\n",
      "L:   2 | P:  13 | L014 | Unquoted identifiers must be consistently upper case.\n",
      "L:   2 | P:  22 | L014 | Unquoted identifiers must be consistently upper case.\n",
      "L:   2 | P:  37 | L014 | Unquoted identifiers must be consistently upper case.\n",
      "L:   3 | P:   3 | L003 | Expected 1 indentations, found 0 [compared to line 01]\n",
      "L:   3 | P:   9 | L030 | Function names must be consistently upper case.\n",
      "L:   3 | P:  25 | L014 | Unquoted identifiers must be consistently upper case.\n",
      "L:   3 | P:  34 | L014 | Unquoted identifiers must be consistently upper case.\n",
      "L:   3 | P:  58 | L014 | Unquoted identifiers must be consistently upper case.\n",
      "L:   3 | P:  69 | L001 | Unnecessary trailing whitespace.\n",
      "L:   4 | P:   1 | L010 | Keywords must be consistently upper case.\n",
      "L:   4 | P:   6 | L014 | Unquoted identifiers must be consistently upper case.\n",
      "L:   5 | P:  11 | L009 | Files must end with a single trailing newline.\n",
      "All Finished!\n",
      "\n",
      "\n",
      "\u001b[33m[Detecting anti-patterns using sqlcheck]\u001b[0m\n",
      "sqlcheck version 1.2.1\n",
      "Debug build (NDEBUG not #defined)\n",
      "+-------------------------------------------------+\n",
      "|                   SQLCHECK                      |\n",
      "+-------------------------------------------------+\n",
      "> RISK LEVEL    :: ALL ANTI-PATTERNS\n",
      "> SQL FILE NAME :: examples/example4.sql\n",
      "> COLOR MODE    :: ENABLED\n",
      "> VERBOSE MODE  :: ENABLED\n",
      "> DELIMITER     :: ;\n",
      "-------------------------------------------------\n",
      "==================== Results ===================\n",
      "No issues found.\n",
      "\n",
      "\n",
      "\u001b[33m[Finding rules using lark]\u001b[0m\n",
      "\u001b[31mswissql: error: no rule specified\u001b[0m\n",
      "\n"
     ]
    }
   ],
   "source": [
    "!python -m swissql all -f examples/example4.sql -s '{\"yourTable\":{\"startDate\":\"DATETIME\", \"endDate\":\"DATETIME\"}}' -o optimize"
   ]
  },
  {
   "cell_type": "code",
   "execution_count": 136,
   "metadata": {},
   "outputs": [
    {
     "name": "stdout",
     "output_type": "stream",
     "text": [
      "SELECT\n",
      "    CASE WHEN id = 1 \n",
      "         THEN \"OneOrMA\"\n",
      "         ELSE\n",
      "             CASE WHEN state = 'MA' THEN \"OneOrMA\" ELSE \"NotOneOrMA\" END\n",
      "    END AS IdRedux\n",
      "FROM customer"
     ]
    }
   ],
   "source": [
    "!cat examples/example5.sql\n",
    "\n"
   ]
  },
  {
   "cell_type": "code",
   "execution_count": 139,
   "metadata": {},
   "outputs": [
    {
     "name": "stdout",
     "output_type": "stream",
     "text": [
      "\u001b[33m[Analyzing query:\u001b[35m SELECT\n",
      "    CASE WHEN id = 1 \n",
      "         THEN \"OneOrMA\"\n",
      "         ELSE\n",
      "             CASE WHEN state = 'MA' THEN \"OneOrMA\" ELSE \"NotOneOrMA\" END\n",
      "    ENd AS IdRedux\n",
      "FROM customer\u001b[33m]\u001b[37m\n",
      "\u001b[33m[Generating syntax tree using sqlglot]\u001b[0m\n",
      "(SELECT expressions: \n",
      "  (ALIAS this: \n",
      "    (CASE ifs: \n",
      "      (IF this: \n",
      "        (EQ this: \n",
      "          (COLUMN this: \n",
      "            (IDENTIFIER this: id, quoted: False)), expression: \n",
      "          (LITERAL this: 1, is_string: False)), true: \n",
      "        (LITERAL this: OneOrMA, is_string: True)), default: \n",
      "      (CASE ifs: \n",
      "        (IF this: \n",
      "          (EQ this: \n",
      "            (COLUMN this: \n",
      "              (IDENTIFIER this: state, quoted: False)), expression: \n",
      "            (LITERAL this: MA, is_string: True)), true: \n",
      "          (LITERAL this: OneOrMA, is_string: True)), default: \n",
      "        (LITERAL this: NotOneOrMA, is_string: True))), alias: \n",
      "    (IDENTIFIER this: IdRedux, quoted: False)), from: \n",
      "  (FROM expressions: \n",
      "    (TABLE this: \n",
      "      (IDENTIFIER this: customer, quoted: False))))\n",
      "\n",
      "\u001b[33m[Formatting sql query using sqlglot]\u001b[0m\n",
      "SELECT\n",
      "  CASE\n",
      "    WHEN id = 1\n",
      "    THEN 'OneOrMA'\n",
      "    ELSE CASE\n",
      "        WHEN state = 'MA'\n",
      "        THEN 'OneOrMA'\n",
      "        ELSE 'NotOneOrMA'\n",
      "      END\n",
      "  END AS IdRedux\n",
      "FROM customer\n",
      "\n",
      "\u001b[33m[Optimizing sql query using sqlglot]\u001b[0m\n",
      "Optimization: optimize\n",
      "SELECT\n",
      "  CASE\n",
      "    WHEN \"customer\".\"id\" = 1\n",
      "    THEN 'OneOrMA'\n",
      "    ELSE CASE\n",
      "        WHEN \"customer\".\"state\" = 'MA'\n",
      "        THEN 'OneOrMA'\n",
      "        ELSE 'NotOneOrMA'\n",
      "      END\n",
      "  END AS \"IdRedux\"\n",
      "FROM \"customer\" AS \"customer\"\n",
      "\n",
      "\u001b[33m[Style sql query use sqlfluff]\u001b[0m\n",
      "== [examples/example5.sql] FAIL                                                 \n",
      "L:   1 | P:   1 | L036 | Select targets should be on a new line unless there is\n",
      "                       | only one select target.\n",
      "L:   2 | P:  21 | L001 | Unnecessary trailing whitespace.\n",
      "L:   3 | P:  10 | L003 | Expected 3 indentations, found 2 [compared to line 02]\n",
      "L:   4 | P:  10 | L003 | Expected 3 indentations, found 2 [compared to line 02]\n",
      "L:   5 | P:  14 | L003 | Expected 3 indentations, found 3 [compared to line 02]\n",
      "L:   5 | P:  14 | L058 | Nested 'CASE' statement in 'ELSE' clause could be\n",
      "                       | flattened.\n",
      "L:   5 | P:  32 | L064 | Inconsistent use of preferred quote style 'double\n",
      "                       | quotes'. Use \"MA\" instead of 'MA'.\n",
      "L:   6 | P:   5 | L010 | Keywords must be consistently upper case.\n",
      "L:   6 | P:  12 | L014 | Unquoted identifiers must be consistently lower case.\n",
      "L:   7 | P:  14 | L009 | Files must end with a single trailing newline.\n",
      "All Finished!\n",
      "\n",
      "\n",
      "\u001b[33m[Detecting anti-patterns using sqlcheck]\u001b[0m\n",
      "sqlcheck version 1.2.1\n",
      "Debug build (NDEBUG not #defined)\n",
      "+-------------------------------------------------+\n",
      "|                   SQLCHECK                      |\n",
      "+-------------------------------------------------+\n",
      "> RISK LEVEL    :: ALL ANTI-PATTERNS\n",
      "> SQL FILE NAME :: examples/example5.sql\n",
      "> COLOR MODE    :: ENABLED\n",
      "> VERBOSE MODE  :: ENABLED\n",
      "> DELIMITER     :: ;\n",
      "-------------------------------------------------\n",
      "==================== Results ===================\n",
      "No issues found.\n",
      "\n",
      "\n",
      "\u001b[33m[Finding rules using lark]\u001b[0m\n",
      "\u001b[31mswissql: error: no rule specified\u001b[0m\n",
      "\n"
     ]
    }
   ],
   "source": [
    "!python -m swissql all -f examples/example5.sql -s '{\"customer\":{\"id\":\"INT\", \"state\":\"STRING\"}}' -o optimize"
   ]
  },
  {
   "cell_type": "code",
   "execution_count": 141,
   "metadata": {},
   "outputs": [
    {
     "name": "stdout",
     "output_type": "stream",
     "text": [
      "\u001b[33m[Analyzing query:\u001b[35m SELECT first_name || COALESCE(' ' || middle_initial || ' ', ' ') || last_name\n",
      "AS full_name FROm Accounts\u001b[33m]\u001b[37m\n",
      "\u001b[33m[Generating syntax tree using sqlglot]\u001b[0m\n",
      "(SELECT expressions: \n",
      "  (ALIAS this: \n",
      "    (DPIPE this: \n",
      "      (DPIPE this: \n",
      "        (COLUMN this: \n",
      "          (IDENTIFIER this: first_name, quoted: False)), expression: \n",
      "        (COALESCE this: \n",
      "          (DPIPE this: \n",
      "            (DPIPE this: \n",
      "              (LITERAL this:  , is_string: True), expression: \n",
      "              (COLUMN this: \n",
      "                (IDENTIFIER this: middle_initial, quoted: False))), expression: \n",
      "            (LITERAL this:  , is_string: True)), expressions: \n",
      "          (LITERAL this:  , is_string: True))), expression: \n",
      "      (COLUMN this: \n",
      "        (IDENTIFIER this: last_name, quoted: False))), alias: \n",
      "    (IDENTIFIER this: full_name, quoted: False)), from: \n",
      "  (FROM expressions: \n",
      "    (TABLE this: \n",
      "      (IDENTIFIER this: Accounts, quoted: False))))\n",
      "\n",
      "\u001b[33m[Formatting sql query using sqlglot]\u001b[0m\n",
      "SELECT\n",
      "  first_name || COALESCE(' ' || middle_initial || ' ', ' ') || last_name AS full_name\n",
      "FROM Accounts\n",
      "\n",
      "\u001b[33m[Optimizing sql query using sqlglot]\u001b[0m\n",
      "Optimization: optimize\n",
      "SELECT\n",
      "  \"Accounts\".\"first_name\" || COALESCE(' ' || \"Accounts\".\"middle_initial\" || ' ', ' ') || \"Accounts\".\"last_name\" AS \"full_name\"\n",
      "FROM \"Accounts\" AS \"Accounts\"\n",
      "\n",
      "\u001b[33m[Style sql query use sqlfluff]\u001b[0m\n",
      "== [examples/example6.sql] FAIL                                                 \n",
      "L:   2 | P:   1 | L003 | Expected 1 indentations, found 0 [compared to line 01]\n",
      "L:   2 | P:  14 | L010 | Keywords must be consistently upper case.\n",
      "L:   2 | P:  19 | L014 | Unquoted identifiers must be consistently lower case.\n",
      "L:   2 | P:  27 | L009 | Files must end with a single trailing newline.\n",
      "All Finished!\n",
      "\n",
      "\n",
      "\u001b[33m[Detecting anti-patterns using sqlcheck]\u001b[0m\n",
      "sqlcheck version 1.2.1\n",
      "Debug build (NDEBUG not #defined)\n",
      "+-------------------------------------------------+\n",
      "|                   SQLCHECK                      |\n",
      "+-------------------------------------------------+\n",
      "> RISK LEVEL    :: ALL ANTI-PATTERNS\n",
      "> SQL FILE NAME :: examples/example6.sql\n",
      "> COLOR MODE    :: ENABLED\n",
      "> VERBOSE MODE  :: ENABLED\n",
      "> DELIMITER     :: ;\n",
      "-------------------------------------------------\n",
      "==================== Results ===================\n",
      "\n",
      "-------------------------------------------------\n",
      "SQL Statement at line 1: \u001b[1m\u001b[31mselect first_name || coalesce(' ' || middle_initial || ' ', ' ') || last_name as\n",
      "full_name from accounts;\u001b[0m\u001b[39m\n",
      "[examples/example6.sql]: (\u001b[1m\u001b[32mLOW RISK\u001b[0m\u001b[39m) \u001b[1m\u001b[34mString Concatenation\u001b[0m\u001b[39m\n",
      "● Use COALESCE for string concatenation of nullable columns:\n",
      "You may need to force a column or expression to be non-null for the sake of\n",
      "simplifying the query logic, but you don't want that value to be stored. Use\n",
      "COALESCE function to construct the concatenated expression so that a null-valued\n",
      "column doesn't make the whole expression become null. EX:\n",
      "SELECT first_name || COALESCE(' ' || middle_initial || ' ', ' ') || last_name AS\n",
      "full_name FROM Accounts;\n",
      "[Matching Expression: \u001b[1m\u001b[34m||\u001b[0m\u001b[39m at lines 1, 1, 1, 1]\n",
      "\n",
      "\n",
      "==================== Summary ===================\n",
      "All Anti-Patterns and Hints  :: 1\n",
      ">  High Risk   :: 0\n",
      ">  Medium Risk :: 0\n",
      ">  Low Risk    :: 1\n",
      ">  Hints       :: 0\n",
      "\n",
      "\n",
      "\u001b[33m[Finding rules using lark]\u001b[0m\n",
      "\u001b[31mswissql: error: no rule specified\u001b[0m\n",
      "\n"
     ]
    }
   ],
   "source": [
    "!python -m swissql all -f examples/example6.sql -s '{\"Accounts\":{\"first_name\":\"STRING\", \"middle_initial\":\"STRING\",\"last_name\":\"STRING\"}}' -o optimize"
   ]
  },
  {
   "cell_type": "code",
   "execution_count": 143,
   "metadata": {},
   "outputs": [
    {
     "name": "stdout",
     "output_type": "stream",
     "text": [
      "usage: swissql [-h] -q Q -f F [-x] [-s S] [-F F]\n",
      "               [-o {optimize,normalize,eliminate_subqueries,expand_multi_table_selects,isolate_table_selects,optimize_joins,pushdown_predicates,pushdown_projections,qualify_tables,qualify_columns,quote_identities,unnest_subqueries}]\n",
      "               [-r R] [-c {syntax,format,optimize,style,anti_pattern,rule}]\n",
      "               [--rules-sqlfluff RULES_SQLFLUFF] [--dialect DIALECT]\n",
      "               [--output-mode {str,json}]\n",
      "               {syntax,format,optimize,style,anti_pattern,rule,all,construct}\n",
      "\n",
      "Spark SQL analytic engine\n",
      "\n",
      "positional arguments:\n",
      "  {syntax,format,optimize,style,anti_pattern,rule,all,construct}\n",
      "                        mode of operation\n",
      "\n",
      "optional arguments:\n",
      "  -h, --help            show this help message and exit\n",
      "  -q Q                  specify SQL query\n",
      "  -f F                  specify file to read SQL query from\n",
      "  -x                    specify if queries should be extracted from source\n",
      "                        files\n",
      "  -s S                  specify schema: Schema is a mapping in one of the\n",
      "                        following forms: 1. {table: {col: type}} 2. {db:\n",
      "                        {table: {col: type}}} 3. {catalog: {db: {table: {col:\n",
      "                        type}}}} Example types: INT, STRING\n",
      "  -F F                  specify schema file to read schema from\n",
      "  -o {optimize,normalize,eliminate_subqueries,expand_multi_table_selects,isolate_table_selects,optimize_joins,pushdown_predicates,pushdown_projections,qualify_tables,qualify_columns,quote_identities,unnest_subqueries}\n",
      "                        specify optimizers\n",
      "  -r R                  specify rule files as list\n",
      "  -c {syntax,format,optimize,style,anti_pattern,rule}\n",
      "                        specify modes for analysis constructor\n",
      "  --rules-sqlfluff RULES_SQLFLUFF\n",
      "                        specify rules file for sqlfluff\n",
      "  --dialect DIALECT     specify sqlfluff dialect\n",
      "  --output-mode {str,json}\n",
      "                        specify output format\n"
     ]
    }
   ],
   "source": [
    "!python -m swissql -h"
   ]
  },
  {
   "cell_type": "code",
   "execution_count": null,
   "metadata": {},
   "outputs": [],
   "source": []
  }
 ],
 "metadata": {
  "kernelspec": {
   "display_name": "Python 3.10.4 64-bit",
   "language": "python",
   "name": "python3"
  },
  "language_info": {
   "codemirror_mode": {
    "name": "ipython",
    "version": 3
   },
   "file_extension": ".py",
   "mimetype": "text/x-python",
   "name": "python",
   "nbconvert_exporter": "python",
   "pygments_lexer": "ipython3",
   "version": "3.10.4"
  },
  "orig_nbformat": 4,
  "vscode": {
   "interpreter": {
    "hash": "916dbcbb3f70747c44a77c7bcd40155683ae19c65e1c03b4aa3499c5328201f1"
   }
  }
 },
 "nbformat": 4,
 "nbformat_minor": 2
}
